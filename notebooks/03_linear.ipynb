{
 "cells": [
  {
   "cell_type": "markdown",
   "id": "ea305aa2",
   "metadata": {},
   "source": [
    "# Implementing a linear regression model"
   ]
  },
  {
   "cell_type": "markdown",
   "id": "df5f2a32",
   "metadata": {},
   "source": [
    "## Import libraries"
   ]
  },
  {
   "cell_type": "code",
   "execution_count": 8,
   "id": "8e05f9e4",
   "metadata": {},
   "outputs": [],
   "source": [
    "import pandas as pd\n",
    "import numpy as np\n",
    "from sklearn.linear_model import LinearRegression\n",
    "from sklearn.metrics import mean_absolute_error, mean_squared_error\n",
    "\n",
    "import sys\n",
    "sys.path.append('..')\n",
    "\n",
    "from src.models import LinearRegressionAnalytic, LinearRegressionGD, LinearRegressionSGD\n",
    "from src.utils import ModelComparator"
   ]
  },
  {
   "cell_type": "markdown",
   "id": "d3d1b0f5",
   "metadata": {},
   "source": [
    "## Get the dataframes"
   ]
  },
  {
   "cell_type": "code",
   "execution_count": 9,
   "id": "4f21f45c",
   "metadata": {},
   "outputs": [],
   "source": [
    "train = pd.read_pickle('../datasets/train_02_onehot.pkl')\n",
    "test = pd.read_pickle('../datasets/test_02_onehot.pkl')"
   ]
  },
  {
   "cell_type": "code",
   "execution_count": 10,
   "id": "d2dfe6eb",
   "metadata": {},
   "outputs": [],
   "source": [
    "X_train = train.drop(['price'], axis=1)\n",
    "y_train = train['price']\n",
    "X_test = test.drop(['price'], axis=1)\n",
    "y_test = test['price']"
   ]
  },
  {
   "cell_type": "markdown",
   "id": "368ded7a",
   "metadata": {},
   "source": [
    "## Test analytic solution"
   ]
  },
  {
   "cell_type": "code",
   "execution_count": 11,
   "id": "175c37f8",
   "metadata": {},
   "outputs": [],
   "source": [
    "comparator = ModelComparator(X_train, y_train, X_test, y_test)"
   ]
  },
  {
   "cell_type": "code",
   "execution_count": 12,
   "id": "100e93bb",
   "metadata": {},
   "outputs": [
    {
     "name": "stdout",
     "output_type": "stream",
     "text": [
      "=====MAE=====\n",
      "My Model: 797.860906349863\n",
      "Lib Model: 759.5529859702176\n",
      "=====RMSE=====\n",
      "My Model: 1239.6810621058705\n",
      "Lib Model: 1242.990323354465\n",
      "=====R2=====\n",
      "My Model: 0.37935111464558535\n",
      "Lib Model: 0.3760331149743573\n",
      "\n"
     ]
    }
   ],
   "source": [
    "comparator.compare_with_library(LinearRegressionSGD(), LinearRegression())"
   ]
  },
  {
   "cell_type": "code",
   "execution_count": 15,
   "id": "0b81c21b",
   "metadata": {},
   "outputs": [
    {
     "name": "stdout",
     "output_type": "stream",
     "text": [
      "=====MAE=====\n",
      "My Model: 858.4044801162481\n",
      "Lib Model: 759.5529859702176\n",
      "=====RMSE=====\n",
      "My Model: 1279.5444022369984\n",
      "Lib Model: 1242.990323354465\n",
      "=====R2=====\n",
      "My Model: 0.3387940262885183\n",
      "Lib Model: 0.3760331149743573\n",
      "\n"
     ]
    }
   ],
   "source": [
    "comparator.compare_with_library(LinearRegressionGD(), LinearRegression())"
   ]
  },
  {
   "cell_type": "code",
   "execution_count": 16,
   "id": "2fa940b1",
   "metadata": {},
   "outputs": [
    {
     "name": "stdout",
     "output_type": "stream",
     "text": [
      "=====MAE=====\n",
      "My Model: 759.5529859702158\n",
      "Lib Model: 759.5529859702176\n",
      "=====RMSE=====\n",
      "My Model: 1242.9903233544626\n",
      "Lib Model: 1242.990323354465\n",
      "=====R2=====\n",
      "My Model: 0.3760331149743601\n",
      "Lib Model: 0.3760331149743573\n",
      "\n"
     ]
    }
   ],
   "source": [
    "comparator.compare_with_library(LinearRegressionAnalytic(), LinearRegression())"
   ]
  },
  {
   "cell_type": "code",
   "execution_count": 13,
   "id": "54b2dc5c",
   "metadata": {},
   "outputs": [],
   "source": [
    "comparator.evaluate_model(LinearRegressionSGD(), \"LinearSGD_default\")"
   ]
  },
  {
   "cell_type": "code",
   "execution_count": 14,
   "id": "9cff92ab",
   "metadata": {},
   "outputs": [],
   "source": [
    "comparator.save_results()"
   ]
  }
 ],
 "metadata": {
  "kernelspec": {
   "display_name": "my_machine_learn",
   "language": "python",
   "name": "python3"
  },
  "language_info": {
   "codemirror_mode": {
    "name": "ipython",
    "version": 3
   },
   "file_extension": ".py",
   "mimetype": "text/x-python",
   "name": "python",
   "nbconvert_exporter": "python",
   "pygments_lexer": "ipython3",
   "version": "3.8.20"
  }
 },
 "nbformat": 4,
 "nbformat_minor": 5
}
