{
 "cells": [
  {
   "cell_type": "markdown",
   "id": "eb33b7c0",
   "metadata": {},
   "source": [
    "# Feature engineering"
   ]
  },
  {
   "cell_type": "markdown",
   "id": "94bb54a5",
   "metadata": {},
   "source": [
    "## Import libraries"
   ]
  },
  {
   "cell_type": "code",
   "execution_count": 23,
   "id": "11c3e6f9",
   "metadata": {},
   "outputs": [],
   "source": [
    "import pandas as pd\n",
    "from collections import Counter"
   ]
  },
  {
   "cell_type": "markdown",
   "id": "3ae01a46",
   "metadata": {},
   "source": [
    "## Get the datasets"
   ]
  },
  {
   "cell_type": "code",
   "execution_count": 24,
   "id": "45e746ed",
   "metadata": {},
   "outputs": [],
   "source": [
    "train = pd.read_pickle('../datasets/train_01.pkl')\n",
    "test = pd.read_json('../datasets/test.json')"
   ]
  },
  {
   "cell_type": "markdown",
   "id": "cfba82e0",
   "metadata": {},
   "source": [
    "## Engineering"
   ]
  },
  {
   "cell_type": "markdown",
   "id": "ccaccdea",
   "metadata": {},
   "source": [
    "### Clean the column `features`"
   ]
  },
  {
   "cell_type": "code",
   "execution_count": 27,
   "id": "9de99eec",
   "metadata": {},
   "outputs": [],
   "source": [
    "train['features'] = train['features'].apply(lambda x : [item.replace('[', '').replace(']', '').replace(\"'\", \"\").replace('\"', '').replace(' ', '') for item in x])"
   ]
  },
  {
   "cell_type": "code",
   "execution_count": 14,
   "id": "338e1b37",
   "metadata": {},
   "outputs": [
    {
     "data": {
      "text/plain": [
       "4         [DiningRoom, Pre-War, LaundryinBuilding, Dishw...\n",
       "6         [Doorman, Elevator, LaundryinBuilding, Dishwas...\n",
       "9         [Doorman, Elevator, LaundryinBuilding, Laundry...\n",
       "10                                                       []\n",
       "15        [Doorman, Elevator, FitnessCenter, LaundryinBu...\n",
       "                                ...                        \n",
       "124000               [Elevator, Dishwasher, HardwoodFloors]\n",
       "124002    [CommonOutdoorSpace, CatsAllowed, DogsAllowed,...\n",
       "124004    [DiningRoom, Elevator, Pre-War, LaundryinBuild...\n",
       "124008    [Pre-War, LaundryinUnit, Dishwasher, NoFee, Ou...\n",
       "124009    [DiningRoom, Elevator, LaundryinBuilding, Dish...\n",
       "Name: features, Length: 49352, dtype: object"
      ]
     },
     "execution_count": 14,
     "metadata": {},
     "output_type": "execute_result"
    }
   ],
   "source": [
    "train['features']"
   ]
  },
  {
   "cell_type": "markdown",
   "id": "5145a3d4",
   "metadata": {},
   "source": [
    "### Let's count the top 20 signs"
   ]
  },
  {
   "cell_type": "code",
   "execution_count": 28,
   "id": "8f781446",
   "metadata": {},
   "outputs": [],
   "source": [
    "all_features = []\n",
    "\n",
    "for item in train['features']:\n",
    "    all_features.extend(item)"
   ]
  },
  {
   "cell_type": "code",
   "execution_count": 29,
   "id": "abf7931e",
   "metadata": {},
   "outputs": [
    {
     "name": "stdout",
     "output_type": "stream",
     "text": [
      "Number of unique features:  1546\n"
     ]
    }
   ],
   "source": [
    "print(\"Number of unique features: \", len(set(all_features)))"
   ]
  },
  {
   "cell_type": "code",
   "execution_count": 30,
   "id": "f3c103c7",
   "metadata": {},
   "outputs": [
    {
     "data": {
      "text/plain": [
       "[('Elevator', 25915),\n",
       " ('CatsAllowed', 23540),\n",
       " ('HardwoodFloors', 23527),\n",
       " ('DogsAllowed', 22035),\n",
       " ('Doorman', 20898),\n",
       " ('Dishwasher', 20426),\n",
       " ('NoFee', 18062),\n",
       " ('LaundryinBuilding', 16344),\n",
       " ('FitnessCenter', 13252),\n",
       " ('Pre-War', 9148),\n",
       " ('LaundryinUnit', 8738),\n",
       " ('RoofDeck', 6542),\n",
       " ('OutdoorSpace', 5268),\n",
       " ('DiningRoom', 5136),\n",
       " ('HighSpeedInternet', 4299),\n",
       " ('Balcony', 2992),\n",
       " ('SwimmingPool', 2730),\n",
       " ('LaundryInBuilding', 2593),\n",
       " ('NewConstruction', 2559),\n",
       " ('Terrace', 2283)]"
      ]
     },
     "execution_count": 30,
     "metadata": {},
     "output_type": "execute_result"
    }
   ],
   "source": [
    "cnt = Counter(all_features)\n",
    "cnt.most_common(20)"
   ]
  },
  {
   "cell_type": "markdown",
   "id": "70a803a6",
   "metadata": {},
   "source": [
    "### Creating a one-hot tables"
   ]
  },
  {
   "cell_type": "code",
   "execution_count": 33,
   "id": "50666b35",
   "metadata": {},
   "outputs": [],
   "source": [
    "top_features = [i[0] for i in cnt.most_common(20)]\n",
    "\n",
    "for feature in top_features:\n",
    "    train[feature] = train['features'].apply(lambda x : 1 if feature in x else 0)\n",
    "    test[feature] = test['features'].apply(lambda x : 1 if feature in x else 0)"
   ]
  },
  {
   "cell_type": "code",
   "execution_count": 34,
   "id": "1027ae66",
   "metadata": {},
   "outputs": [],
   "source": [
    "feature_list = ['bathrooms', 'bedrooms'] + top_features"
   ]
  },
  {
   "cell_type": "code",
   "execution_count": null,
   "id": "c4f902f1",
   "metadata": {},
   "outputs": [],
   "source": [
    "oneHot_train = train[feature_list + ['price']]\n",
    "oneHot_test = test[feature_list + ['price']]"
   ]
  },
  {
   "cell_type": "markdown",
   "id": "10781e22",
   "metadata": {},
   "source": [
    "## Saving the resulting tables"
   ]
  },
  {
   "cell_type": "code",
   "execution_count": 38,
   "id": "c080140d",
   "metadata": {},
   "outputs": [],
   "source": [
    "oneHot_train.to_pickle('../datasets/train_02_onehot.pkl')\n",
    "oneHot_test.to_pickle('../datasets/test_02_onehot.pkl')"
   ]
  }
 ],
 "metadata": {
  "kernelspec": {
   "display_name": "my_machine_learn",
   "language": "python",
   "name": "python3"
  },
  "language_info": {
   "codemirror_mode": {
    "name": "ipython",
    "version": 3
   },
   "file_extension": ".py",
   "mimetype": "text/x-python",
   "name": "python",
   "nbconvert_exporter": "python",
   "pygments_lexer": "ipython3",
   "version": "3.8.20"
  }
 },
 "nbformat": 4,
 "nbformat_minor": 5
}
