{
 "cells": [
  {
   "cell_type": "markdown",
   "id": "86dc3c74",
   "metadata": {},
   "source": [
    "## Normalization"
   ]
  },
  {
   "cell_type": "markdown",
   "id": "e49eed44",
   "metadata": {},
   "source": [
    "## Import a libraies"
   ]
  },
  {
   "cell_type": "code",
   "execution_count": 1,
   "id": "fe9ab7cf",
   "metadata": {},
   "outputs": [],
   "source": [
    "import pandas as pd\n",
    "import numpy as np\n",
    "from sklearn.linear_model import LinearRegression, Ridge, Lasso, ElasticNet\n",
    "from sklearn.preprocessing import MinMaxScaler, StandardScaler\n",
    "\n",
    "import sys\n",
    "sys.path.append('../')\n",
    "\n",
    "from src.models import MyRidge, MyLasso, MyElasticNet, LinearRegressionSGD\n",
    "from src.utils import MyMinMaxScaler, MyStandardScaler\n",
    "from src.utils import ModelComparator"
   ]
  },
  {
   "cell_type": "markdown",
   "id": "d453d3bf",
   "metadata": {},
   "source": [
    "## Get a dataframe"
   ]
  },
  {
   "cell_type": "code",
   "execution_count": 2,
   "id": "4312fb00",
   "metadata": {},
   "outputs": [],
   "source": [
    "train = pd.read_pickle('../datasets/train_02_onehot.pkl')\n",
    "test = pd.read_pickle('../datasets/test_02_onehot.pkl')"
   ]
  },
  {
   "cell_type": "code",
   "execution_count": 3,
   "id": "8b0c7b7a",
   "metadata": {},
   "outputs": [],
   "source": [
    "X_train = train.drop(['price'], axis=1)\n",
    "y_train = train['price']\n",
    "X_test = test.drop(['price'], axis=1)\n",
    "y_test = test['price']"
   ]
  },
  {
   "cell_type": "markdown",
   "id": "7dd8faa5",
   "metadata": {},
   "source": [
    "## Comparison of normalization implementations"
   ]
  },
  {
   "cell_type": "markdown",
   "id": "81a0ae12",
   "metadata": {},
   "source": [
    "### StandartScaler"
   ]
  },
  {
   "cell_type": "code",
   "execution_count": 4,
   "id": "9b02ec55",
   "metadata": {},
   "outputs": [],
   "source": [
    "my_scaler = MyStandardScaler()\n",
    "lib_scaler = StandardScaler()"
   ]
  },
  {
   "cell_type": "code",
   "execution_count": 5,
   "id": "6ad3c9a3",
   "metadata": {},
   "outputs": [
    {
     "data": {
      "text/plain": [
       "0.0"
      ]
     },
     "execution_count": 5,
     "metadata": {},
     "output_type": "execute_result"
    }
   ],
   "source": [
    "(my_scaler.fit_transform(X_train) - lib_scaler.fit_transform(X_train)).sum()"
   ]
  },
  {
   "cell_type": "code",
   "execution_count": 6,
   "id": "84b73487",
   "metadata": {},
   "outputs": [
    {
     "data": {
      "text/plain": [
       "True"
      ]
     },
     "execution_count": 6,
     "metadata": {},
     "output_type": "execute_result"
    }
   ],
   "source": [
    "np.allclose(my_scaler.fit_transform(X_train), lib_scaler.fit_transform(X_train))"
   ]
  },
  {
   "cell_type": "markdown",
   "id": "c1336822",
   "metadata": {},
   "source": [
    "### MinMaxScaler"
   ]
  },
  {
   "cell_type": "code",
   "execution_count": 7,
   "id": "c65067b3",
   "metadata": {},
   "outputs": [],
   "source": [
    "my_scaler = MyMinMaxScaler()\n",
    "lib_scaler = MinMaxScaler()"
   ]
  },
  {
   "cell_type": "code",
   "execution_count": 8,
   "id": "64643dfb",
   "metadata": {},
   "outputs": [
    {
     "data": {
      "text/plain": [
       "-5.0986992405910314e-14"
      ]
     },
     "execution_count": 8,
     "metadata": {},
     "output_type": "execute_result"
    }
   ],
   "source": [
    "(my_scaler.fit_transform(X_train) - lib_scaler.fit_transform(X_train)).sum()"
   ]
  },
  {
   "cell_type": "code",
   "execution_count": 9,
   "id": "3dcb31ab",
   "metadata": {},
   "outputs": [
    {
     "data": {
      "text/plain": [
       "True"
      ]
     },
     "execution_count": 9,
     "metadata": {},
     "output_type": "execute_result"
    }
   ],
   "source": [
    "np.allclose(my_scaler.fit_transform(X_train), lib_scaler.fit_transform(X_train))"
   ]
  },
  {
   "cell_type": "markdown",
   "id": "4690238a",
   "metadata": {},
   "source": [
    "## Training of linear models using a scaling"
   ]
  },
  {
   "cell_type": "markdown",
   "id": "42be22ec",
   "metadata": {},
   "source": [
    "### Using MinMaxScaler"
   ]
  },
  {
   "cell_type": "code",
   "execution_count": 10,
   "id": "64f32182",
   "metadata": {},
   "outputs": [],
   "source": [
    "minmax_comparator = ModelComparator(X_train, y_train, X_test, y_test, MyMinMaxScaler())"
   ]
  },
  {
   "cell_type": "code",
   "execution_count": 11,
   "id": "f20dddf4",
   "metadata": {},
   "outputs": [],
   "source": [
    "minmax_comparator.evaluate_model(LinearRegressionSGD(), \"LinearSGD_minmax\")"
   ]
  },
  {
   "cell_type": "code",
   "execution_count": 13,
   "id": "0959e0bc",
   "metadata": {},
   "outputs": [],
   "source": [
    "minmax_comparator.evaluate_model(MyLasso(), \"Lasso_minmax\")"
   ]
  },
  {
   "cell_type": "code",
   "execution_count": 12,
   "id": "81df4040",
   "metadata": {},
   "outputs": [],
   "source": [
    "minmax_comparator.evaluate_model(MyRidge(), \"Ridge_minmax\")"
   ]
  },
  {
   "cell_type": "code",
   "execution_count": 14,
   "id": "027b117f",
   "metadata": {},
   "outputs": [],
   "source": [
    "minmax_comparator.evaluate_model(MyElasticNet(), \"ElasticNet_minmax\")"
   ]
  },
  {
   "cell_type": "code",
   "execution_count": 15,
   "id": "2f2e9ba3",
   "metadata": {},
   "outputs": [],
   "source": [
    "minmax_comparator.save_results()"
   ]
  },
  {
   "cell_type": "markdown",
   "id": "878ec2c5",
   "metadata": {},
   "source": [
    "### Using StandartScaler"
   ]
  },
  {
   "cell_type": "code",
   "execution_count": 16,
   "id": "41209eb0",
   "metadata": {},
   "outputs": [],
   "source": [
    "standart_comparator = ModelComparator(X_train, y_train, X_test, y_test, MyStandardScaler())"
   ]
  },
  {
   "cell_type": "code",
   "execution_count": 17,
   "id": "29a7be51",
   "metadata": {},
   "outputs": [],
   "source": [
    "standart_comparator.evaluate_model(LinearRegressionSGD(), \"LinearSGD_standart\")"
   ]
  },
  {
   "cell_type": "code",
   "execution_count": 18,
   "id": "7179d663",
   "metadata": {},
   "outputs": [],
   "source": [
    "standart_comparator.evaluate_model(MyLasso(), \"Lasso_standart\")"
   ]
  },
  {
   "cell_type": "code",
   "execution_count": 19,
   "id": "f8686831",
   "metadata": {},
   "outputs": [],
   "source": [
    "standart_comparator.evaluate_model(MyRidge(), \"Ridge_standart\")"
   ]
  },
  {
   "cell_type": "code",
   "execution_count": 20,
   "id": "a57f2173",
   "metadata": {},
   "outputs": [],
   "source": [
    "standart_comparator.evaluate_model(MyElasticNet(), \"ElasticNet_standart\")"
   ]
  },
  {
   "cell_type": "code",
   "execution_count": 21,
   "id": "7f144d5a",
   "metadata": {},
   "outputs": [],
   "source": [
    "standart_comparator.save_results()"
   ]
  }
 ],
 "metadata": {
  "kernelspec": {
   "display_name": "my_machine_learn",
   "language": "python",
   "name": "python3"
  },
  "language_info": {
   "codemirror_mode": {
    "name": "ipython",
    "version": 3
   },
   "file_extension": ".py",
   "mimetype": "text/x-python",
   "name": "python",
   "nbconvert_exporter": "python",
   "pygments_lexer": "ipython3",
   "version": "3.8.20"
  }
 },
 "nbformat": 4,
 "nbformat_minor": 5
}
