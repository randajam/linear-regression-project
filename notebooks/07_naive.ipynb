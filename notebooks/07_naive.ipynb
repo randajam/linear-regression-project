{
 "cells": [
  {
   "cell_type": "markdown",
   "id": "3fd6f1f7",
   "metadata": {},
   "source": [
    "# Naive models"
   ]
  },
  {
   "cell_type": "markdown",
   "id": "91f2ce84",
   "metadata": {
    "vscode": {
     "languageId": "plaintext"
    }
   },
   "source": [
    "## Import Libraries"
   ]
  },
  {
   "cell_type": "code",
   "execution_count": 15,
   "id": "78a8dc0b",
   "metadata": {},
   "outputs": [],
   "source": [
    "import pandas as pd\n",
    "import numpy as np\n",
    "from sklearn.metrics import mean_absolute_error, mean_squared_error, r2_score\n",
    "import sys\n",
    "sys.path.append('../')\n",
    "from src.utils import ModelComparator"
   ]
  },
  {
   "cell_type": "markdown",
   "id": "e08f8227",
   "metadata": {},
   "source": [
    "## Get the dataframe"
   ]
  },
  {
   "cell_type": "code",
   "execution_count": 2,
   "id": "1bfc6500",
   "metadata": {},
   "outputs": [],
   "source": [
    "train = pd.read_pickle('../datasets/train_02_onehot.pkl')\n",
    "test = pd.read_pickle('../datasets/test_02_onehot.pkl')"
   ]
  },
  {
   "cell_type": "code",
   "execution_count": 4,
   "id": "d18e9f29",
   "metadata": {},
   "outputs": [],
   "source": [
    "y_train = train['price']\n",
    "y_test = test['price']"
   ]
  },
  {
   "cell_type": "markdown",
   "id": "765b6e62",
   "metadata": {},
   "source": [
    "## Implementation of naive models"
   ]
  },
  {
   "cell_type": "code",
   "execution_count": 5,
   "id": "84de7c78",
   "metadata": {},
   "outputs": [],
   "source": [
    "median_train = y_train.median()\n",
    "mean_train = y_train.mean()\n",
    "\n",
    "median_test = y_test.median()\n",
    "mean_test = y_test.mean()"
   ]
  },
  {
   "cell_type": "code",
   "execution_count": 6,
   "id": "5e7120b5",
   "metadata": {},
   "outputs": [
    {
     "data": {
      "text/plain": [
       "((3150.0, 3526.069068248285), (3150.0, 3535.1672217280684))"
      ]
     },
     "execution_count": 6,
     "metadata": {},
     "output_type": "execute_result"
    }
   ],
   "source": [
    "(median_test, mean_test), (median_train, mean_train)"
   ]
  },
  {
   "cell_type": "code",
   "execution_count": 10,
   "id": "bd5684cd",
   "metadata": {},
   "outputs": [],
   "source": [
    "y_train_mean = np.full((len(y_train), 1), mean_train)\n",
    "y_train_median = np.full((len(y_train), 1), median_train)\n",
    "\n",
    "y_test_mean = np.full((len(y_test), 1), mean_test)\n",
    "y_test_median = np.full((len(y_test), 1), median_test)"
   ]
  },
  {
   "cell_type": "code",
   "execution_count": 16,
   "id": "f9bae9ce",
   "metadata": {},
   "outputs": [],
   "source": [
    "median_train_mae = mean_absolute_error(y_train, y_train_median)\n",
    "median_train_rmse = np.sqrt(mean_squared_error(y_train, y_train_median))\n",
    "median_train_r2 = r2_score(y_train, y_train_median)\n",
    "\n",
    "mean_train_mae = mean_absolute_error(y_train, y_train_mean)\n",
    "mean_train_rmse = np.sqrt(mean_squared_error(y_train, y_train_mean))\n",
    "mean_train_r2 = r2_score(y_train, y_train_mean)\n",
    "\n",
    "median_test_mae = mean_absolute_error(y_test, y_test_median)\n",
    "median_test_rmse = np.sqrt(mean_squared_error(y_test, y_test_median))\n",
    "median_test_r2 = r2_score(y_test, y_test_median)\n",
    "\n",
    "mean_test_mae = mean_absolute_error(y_test, y_test_mean)\n",
    "mean_test_rmse = np.sqrt(mean_squared_error(y_test, y_test_mean))\n",
    "mean_test_r2 = r2_score(y_test, y_test_mean)"
   ]
  },
  {
   "cell_type": "code",
   "execution_count": 19,
   "id": "096c7f40",
   "metadata": {},
   "outputs": [],
   "source": [
    "comparator = ModelComparator(None, None, None, None, None)"
   ]
  },
  {
   "cell_type": "code",
   "execution_count": 21,
   "id": "2392d475",
   "metadata": {},
   "outputs": [],
   "source": [
    "comparator._update_results(\n",
    "    comparator.results_mae,\n",
    "    \"Naive_mean\",\n",
    "    mean_train_mae,\n",
    "    mean_test_mae\n",
    ")\n",
    "\n",
    "comparator._update_results(\n",
    "    comparator.results_rmse,\n",
    "    \"Naive_mean\",\n",
    "    mean_train_rmse,\n",
    "    mean_test_rmse\n",
    ")\n",
    "\n",
    "comparator._update_results(\n",
    "    comparator.results_r2,\n",
    "    \"Naive_mean\",\n",
    "    mean_train_r2,\n",
    "    mean_test_r2\n",
    ")"
   ]
  },
  {
   "cell_type": "code",
   "execution_count": 22,
   "id": "11b7daaf",
   "metadata": {},
   "outputs": [],
   "source": [
    "comparator._update_results(\n",
    "    comparator.results_mae,\n",
    "    \"Naive_median\",\n",
    "    median_train_mae,\n",
    "    median_test_mae\n",
    ")\n",
    "\n",
    "comparator._update_results(\n",
    "    comparator.results_rmse,\n",
    "    \"Naive_median\",\n",
    "    median_train_rmse,\n",
    "    median_test_rmse\n",
    ")\n",
    "\n",
    "comparator._update_results(\n",
    "    comparator.results_r2,\n",
    "    \"Naive_median\",\n",
    "    median_train_r2,\n",
    "    median_test_r2\n",
    ")"
   ]
  },
  {
   "cell_type": "code",
   "execution_count": 28,
   "id": "6de5ed17",
   "metadata": {},
   "outputs": [],
   "source": [
    "comparator.save_results()"
   ]
  }
 ],
 "metadata": {
  "kernelspec": {
   "display_name": "my_machine_learn",
   "language": "python",
   "name": "python3"
  },
  "language_info": {
   "codemirror_mode": {
    "name": "ipython",
    "version": 3
   },
   "file_extension": ".py",
   "mimetype": "text/x-python",
   "name": "python",
   "nbconvert_exporter": "python",
   "pygments_lexer": "ipython3",
   "version": "3.8.20"
  }
 },
 "nbformat": 4,
 "nbformat_minor": 5
}
