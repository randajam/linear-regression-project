{
 "cells": [
  {
   "cell_type": "markdown",
   "id": "49b915a2",
   "metadata": {},
   "source": [
    "# Checking the overfit of the model"
   ]
  },
  {
   "cell_type": "markdown",
   "id": "586a7733",
   "metadata": {},
   "source": [
    "## Import libraries"
   ]
  },
  {
   "cell_type": "code",
   "execution_count": 1,
   "id": "f91f51c7",
   "metadata": {},
   "outputs": [],
   "source": [
    "import pandas as pd\n",
    "from sklearn.preprocessing import PolynomialFeatures\n",
    "from sklearn.linear_model import LinearRegression, Lasso, Ridge, ElasticNet\n",
    "import sys\n",
    "sys.path.append('../')\n",
    "\n",
    "from src.models import MyRidge, MyLasso, MyElasticNet, LinearRegressionSGD\n",
    "from src.utils import ModelComparator"
   ]
  },
  {
   "cell_type": "markdown",
   "id": "c7b06eb5",
   "metadata": {},
   "source": [
    "## Get the dataframes"
   ]
  },
  {
   "cell_type": "code",
   "execution_count": 2,
   "id": "218d3150",
   "metadata": {},
   "outputs": [],
   "source": [
    "train = pd.read_pickle('../datasets/train_02_onehot.pkl')\n",
    "test = pd.read_pickle('../datasets/test_02_onehot.pkl')"
   ]
  },
  {
   "cell_type": "code",
   "execution_count": 15,
   "id": "413f821d",
   "metadata": {},
   "outputs": [],
   "source": [
    "X_train = train[['bathrooms', 'bedrooms']]\n",
    "y_train = train['price']\n",
    "X_test = test[['bathrooms', 'bedrooms']]\n",
    "y_test = test['price']"
   ]
  },
  {
   "cell_type": "markdown",
   "id": "6a631f05",
   "metadata": {},
   "source": [
    "## Train models with polynomical features"
   ]
  },
  {
   "cell_type": "code",
   "execution_count": 6,
   "id": "8aaff300",
   "metadata": {},
   "outputs": [],
   "source": [
    "poly = PolynomialFeatures(degree=10)"
   ]
  },
  {
   "cell_type": "code",
   "execution_count": 7,
   "id": "b4b48936",
   "metadata": {},
   "outputs": [],
   "source": [
    "X_poly_train = poly.fit_transform(X_train)\n",
    "X_poly_test = poly.transform(X_test)"
   ]
  },
  {
   "cell_type": "code",
   "execution_count": 8,
   "id": "aaaf6172",
   "metadata": {},
   "outputs": [],
   "source": [
    "comparator = ModelComparator(X_train, y_train, X_test, y_test, poly)"
   ]
  },
  {
   "cell_type": "code",
   "execution_count": 9,
   "id": "fc68ea86",
   "metadata": {},
   "outputs": [],
   "source": [
    "comparator.evaluate_model(LinearRegression(), \"LinearSGD_poly\")"
   ]
  },
  {
   "cell_type": "code",
   "execution_count": 10,
   "id": "d9fec4af",
   "metadata": {},
   "outputs": [
    {
     "name": "stderr",
     "output_type": "stream",
     "text": [
      "/home/randajam/anaconda3/envs/my_machine_learn/lib/python3.8/site-packages/sklearn/linear_model/_coordinate_descent.py:529: ConvergenceWarning: Objective did not converge. You might want to increase the number of iterations. Duality gap: 28381408168.410004, tolerance: 12154185.388817957\n",
      "  model = cd_fast.enet_coordinate_descent(\n"
     ]
    }
   ],
   "source": [
    "comparator.evaluate_model(Lasso(), \"Lasso_poly\")"
   ]
  },
  {
   "cell_type": "code",
   "execution_count": 11,
   "id": "bf2a1117",
   "metadata": {},
   "outputs": [],
   "source": [
    "comparator.evaluate_model(Ridge(), \"Ridge_poly\")"
   ]
  },
  {
   "cell_type": "code",
   "execution_count": 12,
   "id": "bea35654",
   "metadata": {},
   "outputs": [
    {
     "name": "stderr",
     "output_type": "stream",
     "text": [
      "/home/randajam/anaconda3/envs/my_machine_learn/lib/python3.8/site-packages/sklearn/linear_model/_coordinate_descent.py:529: ConvergenceWarning: Objective did not converge. You might want to increase the number of iterations. Duality gap: 29144223225.186584, tolerance: 12154185.388817957\n",
      "  model = cd_fast.enet_coordinate_descent(\n"
     ]
    }
   ],
   "source": [
    "comparator.evaluate_model(ElasticNet(), \"ElasticNet_poly\")"
   ]
  },
  {
   "cell_type": "code",
   "execution_count": 13,
   "id": "8a816d6c",
   "metadata": {},
   "outputs": [
    {
     "data": {
      "text/html": [
       "<div>\n",
       "<style scoped>\n",
       "    .dataframe tbody tr th:only-of-type {\n",
       "        vertical-align: middle;\n",
       "    }\n",
       "\n",
       "    .dataframe tbody tr th {\n",
       "        vertical-align: top;\n",
       "    }\n",
       "\n",
       "    .dataframe thead th {\n",
       "        text-align: right;\n",
       "    }\n",
       "</style>\n",
       "<table border=\"1\" class=\"dataframe\">\n",
       "  <thead>\n",
       "    <tr style=\"text-align: right;\">\n",
       "      <th></th>\n",
       "      <th>model</th>\n",
       "      <th>train</th>\n",
       "      <th>test</th>\n",
       "    </tr>\n",
       "  </thead>\n",
       "  <tbody>\n",
       "    <tr>\n",
       "      <th>0</th>\n",
       "      <td>LinearSGD_default</td>\n",
       "      <td>1062.617598</td>\n",
       "      <td>1239.681062</td>\n",
       "    </tr>\n",
       "    <tr>\n",
       "      <th>1</th>\n",
       "      <td>Lasso_default</td>\n",
       "      <td>1062.480057</td>\n",
       "      <td>1239.456978</td>\n",
       "    </tr>\n",
       "    <tr>\n",
       "      <th>2</th>\n",
       "      <td>Ridge_default</td>\n",
       "      <td>1101.021017</td>\n",
       "      <td>1165.031662</td>\n",
       "    </tr>\n",
       "    <tr>\n",
       "      <th>3</th>\n",
       "      <td>ElasticNet_default</td>\n",
       "      <td>1077.926717</td>\n",
       "      <td>1178.509192</td>\n",
       "    </tr>\n",
       "    <tr>\n",
       "      <th>4</th>\n",
       "      <td>LinearSGD_minmax</td>\n",
       "      <td>1042.423764</td>\n",
       "      <td>1267.909748</td>\n",
       "    </tr>\n",
       "    <tr>\n",
       "      <th>5</th>\n",
       "      <td>Ridge_minmax</td>\n",
       "      <td>1403.241309</td>\n",
       "      <td>1428.057867</td>\n",
       "    </tr>\n",
       "    <tr>\n",
       "      <th>6</th>\n",
       "      <td>Lasso_minmax</td>\n",
       "      <td>1042.345722</td>\n",
       "      <td>1266.402078</td>\n",
       "    </tr>\n",
       "    <tr>\n",
       "      <th>7</th>\n",
       "      <td>ElasticNet_minmax</td>\n",
       "      <td>1343.983243</td>\n",
       "      <td>1370.963305</td>\n",
       "    </tr>\n",
       "    <tr>\n",
       "      <th>8</th>\n",
       "      <td>LinearSGD_standart</td>\n",
       "      <td>1077.666930</td>\n",
       "      <td>1266.176928</td>\n",
       "    </tr>\n",
       "    <tr>\n",
       "      <th>9</th>\n",
       "      <td>Lasso_standart</td>\n",
       "      <td>1077.543350</td>\n",
       "      <td>1265.991573</td>\n",
       "    </tr>\n",
       "    <tr>\n",
       "      <th>10</th>\n",
       "      <td>Ridge_standart</td>\n",
       "      <td>1060.522864</td>\n",
       "      <td>1225.420063</td>\n",
       "    </tr>\n",
       "    <tr>\n",
       "      <th>11</th>\n",
       "      <td>ElasticNet_standart</td>\n",
       "      <td>1067.178582</td>\n",
       "      <td>1242.539728</td>\n",
       "    </tr>\n",
       "    <tr>\n",
       "      <th>12</th>\n",
       "      <td>LinearSGD_poly</td>\n",
       "      <td>1070.598967</td>\n",
       "      <td>79182.745712</td>\n",
       "    </tr>\n",
       "    <tr>\n",
       "      <th>13</th>\n",
       "      <td>Lasso_poly</td>\n",
       "      <td>1080.803933</td>\n",
       "      <td>1079.545106</td>\n",
       "    </tr>\n",
       "    <tr>\n",
       "      <th>14</th>\n",
       "      <td>Ridge_poly</td>\n",
       "      <td>1071.333996</td>\n",
       "      <td>35649.255785</td>\n",
       "    </tr>\n",
       "    <tr>\n",
       "      <th>15</th>\n",
       "      <td>ElasticNet_poly</td>\n",
       "      <td>1087.626781</td>\n",
       "      <td>1087.051101</td>\n",
       "    </tr>\n",
       "  </tbody>\n",
       "</table>\n",
       "</div>"
      ],
      "text/plain": [
       "                  model        train          test\n",
       "0     LinearSGD_default  1062.617598   1239.681062\n",
       "1         Lasso_default  1062.480057   1239.456978\n",
       "2         Ridge_default  1101.021017   1165.031662\n",
       "3    ElasticNet_default  1077.926717   1178.509192\n",
       "4      LinearSGD_minmax  1042.423764   1267.909748\n",
       "5          Ridge_minmax  1403.241309   1428.057867\n",
       "6          Lasso_minmax  1042.345722   1266.402078\n",
       "7     ElasticNet_minmax  1343.983243   1370.963305\n",
       "8    LinearSGD_standart  1077.666930   1266.176928\n",
       "9        Lasso_standart  1077.543350   1265.991573\n",
       "10       Ridge_standart  1060.522864   1225.420063\n",
       "11  ElasticNet_standart  1067.178582   1242.539728\n",
       "12       LinearSGD_poly  1070.598967  79182.745712\n",
       "13           Lasso_poly  1080.803933   1079.545106\n",
       "14           Ridge_poly  1071.333996  35649.255785\n",
       "15      ElasticNet_poly  1087.626781   1087.051101"
      ]
     },
     "execution_count": 13,
     "metadata": {},
     "output_type": "execute_result"
    }
   ],
   "source": [
    "comparator.get_results()[1]"
   ]
  },
  {
   "cell_type": "code",
   "execution_count": 14,
   "id": "9ec02934",
   "metadata": {},
   "outputs": [],
   "source": [
    "comparator.save_results()"
   ]
  }
 ],
 "metadata": {
  "kernelspec": {
   "display_name": "my_machine_learn",
   "language": "python",
   "name": "python3"
  },
  "language_info": {
   "codemirror_mode": {
    "name": "ipython",
    "version": 3
   },
   "file_extension": ".py",
   "mimetype": "text/x-python",
   "name": "python",
   "nbconvert_exporter": "python",
   "pygments_lexer": "ipython3",
   "version": "3.8.20"
  }
 },
 "nbformat": 4,
 "nbformat_minor": 5
}
