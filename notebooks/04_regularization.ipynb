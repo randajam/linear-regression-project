{
 "cells": [
  {
   "cell_type": "markdown",
   "id": "e8fb393b",
   "metadata": {},
   "source": [
    "# Implementing a regularization models"
   ]
  },
  {
   "cell_type": "markdown",
   "id": "e2b71e89",
   "metadata": {},
   "source": [
    "## Import libraries"
   ]
  },
  {
   "cell_type": "code",
   "execution_count": 1,
   "id": "3c5508b1",
   "metadata": {},
   "outputs": [],
   "source": [
    "import pandas as pd\n",
    "from sklearn.linear_model import Ridge, Lasso, ElasticNet\n",
    "\n",
    "import sys\n",
    "sys.path.append('../')\n",
    "\n",
    "from src.models import MyRidge, MyLasso, MyElasticNet\n",
    "from src.utils import ModelComparator"
   ]
  },
  {
   "cell_type": "markdown",
   "id": "0b9d6a68",
   "metadata": {},
   "source": [
    "## Get the dataframes"
   ]
  },
  {
   "cell_type": "code",
   "execution_count": 2,
   "id": "4220f3d3",
   "metadata": {},
   "outputs": [],
   "source": [
    "train = pd.read_pickle('../datasets/train_02_onehot.pkl')\n",
    "test = pd.read_pickle('../datasets/test_02_onehot.pkl')"
   ]
  },
  {
   "cell_type": "code",
   "execution_count": 3,
   "id": "b14ade1e",
   "metadata": {},
   "outputs": [],
   "source": [
    "X_train = train.drop(['price'], axis=1)\n",
    "y_train = train['price']\n",
    "X_test = test.drop(['price'], axis=1)\n",
    "y_test = test['price']"
   ]
  },
  {
   "cell_type": "markdown",
   "id": "60bdde96",
   "metadata": {},
   "source": [
    "## Test a regularization models"
   ]
  },
  {
   "cell_type": "code",
   "execution_count": 4,
   "id": "be6359fb",
   "metadata": {},
   "outputs": [],
   "source": [
    "comparator = ModelComparator(X_train, y_train, X_test, y_test)"
   ]
  },
  {
   "cell_type": "code",
   "execution_count": 7,
   "id": "6e233fb9",
   "metadata": {},
   "outputs": [
    {
     "name": "stdout",
     "output_type": "stream",
     "text": [
      "=====MAE=====\n",
      "My Model: 766.2464508454933\n",
      "Lib Model: 759.5380185034078\n",
      "=====RMSE=====\n",
      "My Model: 1165.0316620932272\n",
      "Lib Model: 1242.9450281847182\n",
      "=====R2=====\n",
      "My Model: 0.4518473690817616\n",
      "Lib Model: 0.37607858945712636\n",
      "\n"
     ]
    }
   ],
   "source": [
    "comparator.compare_with_library(MyRidge(), Ridge())"
   ]
  },
  {
   "cell_type": "code",
   "execution_count": 9,
   "id": "39306f69",
   "metadata": {},
   "outputs": [
    {
     "name": "stdout",
     "output_type": "stream",
     "text": [
      "=====MAE=====\n",
      "My Model: 797.5342849781929\n",
      "Lib Model: 756.3190852900146\n",
      "=====RMSE=====\n",
      "My Model: 1239.4569780200761\n",
      "Lib Model: 1241.5823194604397\n",
      "=====R2=====\n",
      "My Model: 0.3795754706876904\n",
      "Lib Model: 0.37744591795039784\n",
      "\n"
     ]
    }
   ],
   "source": [
    "comparator.compare_with_library(MyLasso(), Lasso())"
   ]
  },
  {
   "cell_type": "code",
   "execution_count": 8,
   "id": "27f86cf5",
   "metadata": {},
   "outputs": [
    {
     "name": "stdout",
     "output_type": "stream",
     "text": [
      "=====MAE=====\n",
      "My Model: 772.033509399661\n",
      "Lib Model: 803.7528979212289\n",
      "=====RMSE=====\n",
      "My Model: 1178.509192184268\n",
      "Lib Model: 1218.471190155553\n",
      "=====R2=====\n",
      "My Model: 0.4390915343083388\n",
      "Lib Model: 0.40040696916742147\n",
      "\n"
     ]
    }
   ],
   "source": [
    "comparator.compare_with_library(MyElasticNet(), ElasticNet())"
   ]
  },
  {
   "cell_type": "markdown",
   "id": "11be3e49",
   "metadata": {},
   "source": [
    "## Save a results"
   ]
  },
  {
   "cell_type": "code",
   "execution_count": 5,
   "id": "f36c7c47",
   "metadata": {},
   "outputs": [],
   "source": [
    "comparator.evaluate_model(MyLasso(), \"Lasso_default\")"
   ]
  },
  {
   "cell_type": "code",
   "execution_count": 6,
   "id": "3253a593",
   "metadata": {},
   "outputs": [],
   "source": [
    "comparator.evaluate_model(MyRidge(), \"Ridge_default\")"
   ]
  },
  {
   "cell_type": "code",
   "execution_count": 7,
   "id": "6108d867",
   "metadata": {},
   "outputs": [],
   "source": [
    "comparator.evaluate_model(MyElasticNet(), \"ElasticNet_default\")"
   ]
  },
  {
   "cell_type": "code",
   "execution_count": 8,
   "id": "91c0052a",
   "metadata": {},
   "outputs": [],
   "source": [
    "comparator.save_results()"
   ]
  }
 ],
 "metadata": {
  "kernelspec": {
   "display_name": "my_machine_learn",
   "language": "python",
   "name": "python3"
  },
  "language_info": {
   "codemirror_mode": {
    "name": "ipython",
    "version": 3
   },
   "file_extension": ".py",
   "mimetype": "text/x-python",
   "name": "python",
   "nbconvert_exporter": "python",
   "pygments_lexer": "ipython3",
   "version": "3.8.20"
  }
 },
 "nbformat": 4,
 "nbformat_minor": 5
}
