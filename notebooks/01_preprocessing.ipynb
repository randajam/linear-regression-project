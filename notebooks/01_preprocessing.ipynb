{
 "cells": [
  {
   "cell_type": "markdown",
   "id": "c8cb4b19",
   "metadata": {},
   "source": [
    "# Preprocessing"
   ]
  },
  {
   "cell_type": "markdown",
   "id": "49aed760",
   "metadata": {},
   "source": [
    "## Import functions"
   ]
  },
  {
   "cell_type": "code",
   "execution_count": 28,
   "id": "bbf38a60",
   "metadata": {},
   "outputs": [],
   "source": [
    "import pandas as pd"
   ]
  },
  {
   "cell_type": "markdown",
   "id": "a5989c9e",
   "metadata": {},
   "source": [
    "## Get the datasets"
   ]
  },
  {
   "cell_type": "code",
   "execution_count": 29,
   "id": "b8551d7e",
   "metadata": {},
   "outputs": [],
   "source": [
    "train = pd.read_json('../datasets/train.json')"
   ]
  },
  {
   "cell_type": "markdown",
   "id": "5a90d536",
   "metadata": {},
   "source": [
    "## Preprocessing the `interes_level`"
   ]
  },
  {
   "cell_type": "code",
   "execution_count": 30,
   "id": "c5200006",
   "metadata": {},
   "outputs": [
    {
     "data": {
      "text/plain": [
       "array(['medium', 'low', 'high'], dtype=object)"
      ]
     },
     "execution_count": 30,
     "metadata": {},
     "output_type": "execute_result"
    }
   ],
   "source": [
    "train['interest_level'].unique()"
   ]
  },
  {
   "cell_type": "code",
   "execution_count": 31,
   "id": "f17fc784",
   "metadata": {},
   "outputs": [],
   "source": [
    "train['interest_level'] = train['interest_level'].map({'low' : 0, 'medium' : 1, 'high' : 2})"
   ]
  },
  {
   "cell_type": "code",
   "execution_count": 32,
   "id": "3bf858fe",
   "metadata": {},
   "outputs": [
    {
     "data": {
      "text/plain": [
       "array([1, 0, 2])"
      ]
     },
     "execution_count": 32,
     "metadata": {},
     "output_type": "execute_result"
    }
   ],
   "source": [
    "train['interest_level'].unique()"
   ]
  },
  {
   "cell_type": "markdown",
   "id": "9ffb903c",
   "metadata": {},
   "source": [
    "## Save dataframe"
   ]
  },
  {
   "cell_type": "code",
   "execution_count": 33,
   "id": "5174ee0c",
   "metadata": {},
   "outputs": [],
   "source": [
    "train.to_pickle('../datasets/train_01.pkl')"
   ]
  }
 ],
 "metadata": {
  "kernelspec": {
   "display_name": "my_machine_learn",
   "language": "python",
   "name": "python3"
  },
  "language_info": {
   "codemirror_mode": {
    "name": "ipython",
    "version": 3
   },
   "file_extension": ".py",
   "mimetype": "text/x-python",
   "name": "python",
   "nbconvert_exporter": "python",
   "pygments_lexer": "ipython3",
   "version": "3.8.20"
  }
 },
 "nbformat": 4,
 "nbformat_minor": 5
}
