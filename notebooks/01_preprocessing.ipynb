{
 "cells": [
  {
   "cell_type": "markdown",
   "id": "c8cb4b19",
   "metadata": {},
   "source": [
    "# Preprocessing"
   ]
  },
  {
   "cell_type": "markdown",
   "id": "49aed760",
   "metadata": {},
   "source": [
    "## Import libraries"
   ]
  },
  {
   "cell_type": "code",
   "execution_count": 1,
   "id": "bbf38a60",
   "metadata": {},
   "outputs": [],
   "source": [
    "import pandas as pd\n",
    "import numpy as np"
   ]
  },
  {
   "cell_type": "markdown",
   "id": "a5989c9e",
   "metadata": {},
   "source": [
    "## Get the datasets"
   ]
  },
  {
   "cell_type": "code",
   "execution_count": 2,
   "id": "b8551d7e",
   "metadata": {},
   "outputs": [],
   "source": [
    "train = pd.read_json('../datasets/train.json')\n",
    "test = pd.read_json('../datasets/test.json')"
   ]
  },
  {
   "cell_type": "markdown",
   "id": "5a90d536",
   "metadata": {},
   "source": [
    "## Preprocessing the `interes_level`"
   ]
  },
  {
   "cell_type": "code",
   "execution_count": 3,
   "id": "c5200006",
   "metadata": {},
   "outputs": [
    {
     "data": {
      "text/plain": [
       "array(['medium', 'low', 'high'], dtype=object)"
      ]
     },
     "execution_count": 3,
     "metadata": {},
     "output_type": "execute_result"
    }
   ],
   "source": [
    "train['interest_level'].unique()"
   ]
  },
  {
   "cell_type": "code",
   "execution_count": 4,
   "id": "f17fc784",
   "metadata": {},
   "outputs": [],
   "source": [
    "train['interest_level'] = train['interest_level'].map({'low' : 0, 'medium' : 1, 'high' : 2})"
   ]
  },
  {
   "cell_type": "code",
   "execution_count": 5,
   "id": "3bf858fe",
   "metadata": {},
   "outputs": [
    {
     "data": {
      "text/plain": [
       "array([1, 0, 2])"
      ]
     },
     "execution_count": 5,
     "metadata": {},
     "output_type": "execute_result"
    }
   ],
   "source": [
    "train['interest_level'].unique()"
   ]
  },
  {
   "cell_type": "markdown",
   "id": "f49dcaa6",
   "metadata": {},
   "source": [
    "## Cleaning of emissions"
   ]
  },
  {
   "cell_type": "code",
   "execution_count": 6,
   "id": "8871c220",
   "metadata": {},
   "outputs": [
    {
     "data": {
      "text/plain": [
       "(1475.0, 13000.0)"
      ]
     },
     "execution_count": 6,
     "metadata": {},
     "output_type": "execute_result"
    }
   ],
   "source": [
    "low_perc, high_perc = np.percentile(train['price'], [1, 99])\n",
    "low_perc, high_perc"
   ]
  },
  {
   "cell_type": "code",
   "execution_count": 7,
   "id": "301dc4d7",
   "metadata": {},
   "outputs": [],
   "source": [
    "train = train[(train['price'] > low_perc) & (train['price'] < high_perc)]\n",
    "test = test[(test['price'] > low_perc) & (test['price'] < high_perc)]"
   ]
  },
  {
   "cell_type": "code",
   "execution_count": 8,
   "id": "d61e2b61",
   "metadata": {},
   "outputs": [],
   "source": [
    "idx_bathrooms = test['bathrooms'].nlargest(5).index\n",
    "test = test.drop(idx_bathrooms)"
   ]
  },
  {
   "cell_type": "code",
   "execution_count": 9,
   "id": "39b3fb83",
   "metadata": {},
   "outputs": [
    {
     "data": {
      "text/html": [
       "<div>\n",
       "<style scoped>\n",
       "    .dataframe tbody tr th:only-of-type {\n",
       "        vertical-align: middle;\n",
       "    }\n",
       "\n",
       "    .dataframe tbody tr th {\n",
       "        vertical-align: top;\n",
       "    }\n",
       "\n",
       "    .dataframe thead th {\n",
       "        text-align: right;\n",
       "    }\n",
       "</style>\n",
       "<table border=\"1\" class=\"dataframe\">\n",
       "  <thead>\n",
       "    <tr style=\"text-align: right;\">\n",
       "      <th></th>\n",
       "      <th>bathrooms</th>\n",
       "      <th>bedrooms</th>\n",
       "      <th>price</th>\n",
       "    </tr>\n",
       "  </thead>\n",
       "  <tbody>\n",
       "    <tr>\n",
       "      <th>count</th>\n",
       "      <td>73174.000000</td>\n",
       "      <td>73174.000000</td>\n",
       "      <td>73174.000000</td>\n",
       "    </tr>\n",
       "    <tr>\n",
       "      <th>mean</th>\n",
       "      <td>1.193218</td>\n",
       "      <td>1.535545</td>\n",
       "      <td>3526.069068</td>\n",
       "    </tr>\n",
       "    <tr>\n",
       "      <th>std</th>\n",
       "      <td>0.449604</td>\n",
       "      <td>1.090891</td>\n",
       "      <td>1573.178319</td>\n",
       "    </tr>\n",
       "    <tr>\n",
       "      <th>min</th>\n",
       "      <td>0.000000</td>\n",
       "      <td>0.000000</td>\n",
       "      <td>1480.000000</td>\n",
       "    </tr>\n",
       "    <tr>\n",
       "      <th>25%</th>\n",
       "      <td>1.000000</td>\n",
       "      <td>1.000000</td>\n",
       "      <td>2500.000000</td>\n",
       "    </tr>\n",
       "    <tr>\n",
       "      <th>50%</th>\n",
       "      <td>1.000000</td>\n",
       "      <td>1.000000</td>\n",
       "      <td>3150.000000</td>\n",
       "    </tr>\n",
       "    <tr>\n",
       "      <th>75%</th>\n",
       "      <td>1.000000</td>\n",
       "      <td>2.000000</td>\n",
       "      <td>4072.500000</td>\n",
       "    </tr>\n",
       "    <tr>\n",
       "      <th>max</th>\n",
       "      <td>6.000000</td>\n",
       "      <td>7.000000</td>\n",
       "      <td>12995.000000</td>\n",
       "    </tr>\n",
       "  </tbody>\n",
       "</table>\n",
       "</div>"
      ],
      "text/plain": [
       "          bathrooms      bedrooms         price\n",
       "count  73174.000000  73174.000000  73174.000000\n",
       "mean       1.193218      1.535545   3526.069068\n",
       "std        0.449604      1.090891   1573.178319\n",
       "min        0.000000      0.000000   1480.000000\n",
       "25%        1.000000      1.000000   2500.000000\n",
       "50%        1.000000      1.000000   3150.000000\n",
       "75%        1.000000      2.000000   4072.500000\n",
       "max        6.000000      7.000000  12995.000000"
      ]
     },
     "execution_count": 9,
     "metadata": {},
     "output_type": "execute_result"
    }
   ],
   "source": [
    "test.describe()[['bathrooms', 'bedrooms', 'price']]"
   ]
  },
  {
   "cell_type": "markdown",
   "id": "9ffb903c",
   "metadata": {},
   "source": [
    "## Save dataframe"
   ]
  },
  {
   "cell_type": "code",
   "execution_count": 10,
   "id": "5174ee0c",
   "metadata": {},
   "outputs": [],
   "source": [
    "train.to_pickle('../datasets/train_01.pkl')\n",
    "test.to_pickle('../datasets/test_01.pkl')"
   ]
  }
 ],
 "metadata": {
  "kernelspec": {
   "display_name": "my_machine_learn",
   "language": "python",
   "name": "python3"
  },
  "language_info": {
   "codemirror_mode": {
    "name": "ipython",
    "version": 3
   },
   "file_extension": ".py",
   "mimetype": "text/x-python",
   "name": "python",
   "nbconvert_exporter": "python",
   "pygments_lexer": "ipython3",
   "version": "3.8.20"
  }
 },
 "nbformat": 4,
 "nbformat_minor": 5
}
