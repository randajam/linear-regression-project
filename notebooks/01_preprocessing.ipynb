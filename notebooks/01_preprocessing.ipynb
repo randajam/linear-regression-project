{
 "cells": [
  {
   "cell_type": "markdown",
   "id": "c8cb4b19",
   "metadata": {},
   "source": [
    "# Preprocessing"
   ]
  },
  {
   "cell_type": "markdown",
   "id": "49aed760",
   "metadata": {},
   "source": [
    "## Import libraries"
   ]
  },
  {
   "cell_type": "code",
   "execution_count": 60,
   "id": "bbf38a60",
   "metadata": {},
   "outputs": [],
   "source": [
    "import pandas as pd\n",
    "import numpy as np"
   ]
  },
  {
   "cell_type": "markdown",
   "id": "a5989c9e",
   "metadata": {},
   "source": [
    "## Get the datasets"
   ]
  },
  {
   "cell_type": "code",
   "execution_count": 61,
   "id": "b8551d7e",
   "metadata": {},
   "outputs": [],
   "source": [
    "train = pd.read_json('../datasets/train.json')\n",
    "test = pd.read_json('../datasets/test.json')"
   ]
  },
  {
   "cell_type": "markdown",
   "id": "5a90d536",
   "metadata": {},
   "source": [
    "## Preprocessing the `interes_level`"
   ]
  },
  {
   "cell_type": "code",
   "execution_count": 62,
   "id": "c5200006",
   "metadata": {},
   "outputs": [
    {
     "data": {
      "text/plain": [
       "array(['medium', 'low', 'high'], dtype=object)"
      ]
     },
     "execution_count": 62,
     "metadata": {},
     "output_type": "execute_result"
    }
   ],
   "source": [
    "train['interest_level'].unique()"
   ]
  },
  {
   "cell_type": "code",
   "execution_count": 63,
   "id": "f17fc784",
   "metadata": {},
   "outputs": [],
   "source": [
    "train['interest_level'] = train['interest_level'].map({'low' : 0, 'medium' : 1, 'high' : 2})"
   ]
  },
  {
   "cell_type": "code",
   "execution_count": 64,
   "id": "3bf858fe",
   "metadata": {},
   "outputs": [
    {
     "data": {
      "text/plain": [
       "array([1, 0, 2])"
      ]
     },
     "execution_count": 64,
     "metadata": {},
     "output_type": "execute_result"
    }
   ],
   "source": [
    "train['interest_level'].unique()"
   ]
  },
  {
   "cell_type": "markdown",
   "id": "f49dcaa6",
   "metadata": {},
   "source": [
    "## Cleaning of emissions"
   ]
  },
  {
   "cell_type": "code",
   "execution_count": 65,
   "id": "8871c220",
   "metadata": {},
   "outputs": [
    {
     "data": {
      "text/plain": [
       "(1475.0, 13000.0)"
      ]
     },
     "execution_count": 65,
     "metadata": {},
     "output_type": "execute_result"
    }
   ],
   "source": [
    "low_perc, high_perc = np.percentile(train['price'], [1, 99])\n",
    "low_perc, high_perc"
   ]
  },
  {
   "cell_type": "code",
   "execution_count": 66,
   "id": "301dc4d7",
   "metadata": {},
   "outputs": [],
   "source": [
    "train = train[(train['price'] > low_perc) & (train['price'] < high_perc)]\n",
    "test = test[(test['price'] > low_perc) & (test['price'] < high_perc)]"
   ]
  },
  {
   "cell_type": "code",
   "execution_count": 67,
   "id": "d61e2b61",
   "metadata": {},
   "outputs": [],
   "source": [
    "idx_bathrooms = test['bathrooms'].nlargest(5).index\n",
    "test_data = test.drop(idx_bathrooms)"
   ]
  },
  {
   "cell_type": "markdown",
   "id": "9ffb903c",
   "metadata": {},
   "source": [
    "## Save dataframe"
   ]
  },
  {
   "cell_type": "code",
   "execution_count": 68,
   "id": "5174ee0c",
   "metadata": {},
   "outputs": [],
   "source": [
    "train.to_pickle('../datasets/train_01.pkl')\n",
    "test.to_pickle('../datasets/test_01.pkl')"
   ]
  }
 ],
 "metadata": {
  "kernelspec": {
   "display_name": "my_machine_learn",
   "language": "python",
   "name": "python3"
  },
  "language_info": {
   "codemirror_mode": {
    "name": "ipython",
    "version": 3
   },
   "file_extension": ".py",
   "mimetype": "text/x-python",
   "name": "python",
   "nbconvert_exporter": "python",
   "pygments_lexer": "ipython3",
   "version": "3.8.20"
  }
 },
 "nbformat": 4,
 "nbformat_minor": 5
}
